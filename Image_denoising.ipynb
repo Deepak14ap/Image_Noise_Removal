{
  "nbformat": 4,
  "nbformat_minor": 0,
  "metadata": {
    "accelerator": "GPU",
    "colab": {
      "name": "Image_denoising.ipynb",
      "provenance": [],
      "collapsed_sections": [],
      "include_colab_link": true
    },
    "kernelspec": {
      "display_name": "Python 3",
      "name": "python3"
    }
  },
  "cells": [
    {
      "cell_type": "markdown",
      "metadata": {
        "id": "view-in-github",
        "colab_type": "text"
      },
      "source": [
        "<a href=\"https://colab.research.google.com/github/Deepak14ap/Image_Noise_Removal/blob/main/Image_denoising.ipynb\" target=\"_parent\"><img src=\"https://colab.research.google.com/assets/colab-badge.svg\" alt=\"Open In Colab\"/></a>"
      ]
    },
    {
      "cell_type": "markdown",
      "metadata": {
        "id": "ATLtO3kRn3IP"
      },
      "source": [
        "# **Encoder-Decoder Network**"
      ]
    },
    {
      "cell_type": "markdown",
      "metadata": {
        "id": "yhaqXdAKoMjB"
      },
      "source": [
        "# Encoder-Decoder automatically consists of two structures: the encoder and the decoder. The encoder network downsamples the data into lower dimensions and the decoder network reconstructs the original data from the lower dimension representation. The lower dimension representation is usually called latent space representation."
      ]
    },
    {
      "cell_type": "markdown",
      "metadata": {
        "id": "Sbp3P7REySJS"
      },
      "source": [
        "![alt text](https://cdn-images-1.medium.com/max/1000/1*8ixTe1VHLsmKB3AquWdxpQ.png)"
      ]
    },
    {
      "cell_type": "markdown",
      "metadata": {
        "id": "5oOwXHEpsGRY"
      },
      "source": [
        "# Load Libraries"
      ]
    },
    {
      "cell_type": "code",
      "metadata": {
        "id": "J-OzQjtmOY2R"
      },
      "source": [
        "from matplotlib import pyplot as plt\n",
        "import numpy as np\n",
        "from keras.layers import Input,Conv2D,MaxPooling2D,UpSampling2D\n",
        "from keras.models import Model\n",
        "from keras.datasets import mnist\n",
        "\n",
        "import os\n",
        "import tensorflow as tf\n",
        "from tqdm.notebook import tqdm\n"
      ],
      "execution_count": 12,
      "outputs": []
    },
    {
      "cell_type": "markdown",
      "metadata": {
        "id": "ldGLmd-rMadu"
      },
      "source": [
        "# Load Dataset in Numpy Format"
      ]
    },
    {
      "cell_type": "markdown",
      "metadata": {
        "id": "Mn8lgM-oMd5p"
      },
      "source": [
        "MNIST is a simple computer vision dataset. It consists of images of handwritten digits. It also includes labels for each image, telling us which digit it is.\n",
        "The MNIST data is split into two parts: 60,000 data points of training data, and 10,000 points of test data. Each image is 28 pixels by 28 pixels.\n"
      ]
    },
    {
      "cell_type": "code",
      "metadata": {
        "id": "xnSB_IjyMz4Y",
        "colab": {
          "base_uri": "https://localhost:8080/"
        },
        "outputId": "6f00bcc9-3e5b-4a6d-a32d-a73a1b4b9fed"
      },
      "source": [
        "(X_train, y_train), (X_test, y_test) = mnist.load_data()"
      ],
      "execution_count": 2,
      "outputs": [
        {
          "output_type": "stream",
          "text": [
            "Downloading data from https://storage.googleapis.com/tensorflow/tf-keras-datasets/mnist.npz\n",
            "11493376/11490434 [==============================] - 0s 0us/step\n",
            "11501568/11490434 [==============================] - 0s 0us/step\n"
          ],
          "name": "stdout"
        }
      ]
    },
    {
      "cell_type": "code",
      "metadata": {
        "colab": {
          "base_uri": "https://localhost:8080/",
          "height": 268
        },
        "id": "xD3w2cEvM5vb",
        "outputId": "2fa8ee35-8eb4-4e9a-dd9f-acde8b05043f"
      },
      "source": [
        "# plot 4 images as gray scale\n",
        "plt.subplot(221)\n",
        "plt.imshow(X_train[0], cmap=plt.get_cmap('gray'))\n",
        "plt.subplot(222)\n",
        "plt.imshow(X_train[1], cmap=plt.get_cmap('gray'))\n",
        "plt.subplot(223)\n",
        "plt.imshow(X_train[2], cmap=plt.get_cmap('gray'))\n",
        "plt.subplot(224)\n",
        "plt.imshow(X_train[3], cmap=plt.get_cmap('gray'))\n",
        "# show the plot\n",
        "plt.show()"
      ],
      "execution_count": 3,
      "outputs": [
        {
          "output_type": "display_data",
          "data": {
            "image/png": "[encoded data removed]",
            "text/plain": [
              "<Figure size 432x288 with 4 Axes>"
            ]
          },
          "metadata": {
            "tags": [],
            "needs_background": "light"
          }
        }
      ]
    },
    {
      "cell_type": "markdown",
      "metadata": {
        "id": "8TWyleCpP6l3"
      },
      "source": [
        "# Formatting Data for Keras"
      ]
    },
    {
      "cell_type": "code",
      "metadata": {
        "id": "dYN_GQ-SQKqo"
      },
      "source": [
        "# forcing the precision of the pixel values to be 32 bit\n",
        "X_train = X_train.astype('float32')\n",
        "X_test = X_test.astype('float32')\n",
        "\n",
        "# normalize inputs from 0-255 to 0-1\n",
        "X_train = X_train / 255\n",
        "X_test = X_test / 255\n",
        "\n",
        "X_train = X_train[:,:,:,np.newaxis]\n",
        "X_test = X_test[:,:,:,np.newaxis]"
      ],
      "execution_count": 4,
      "outputs": []
    },
    {
      "cell_type": "markdown",
      "metadata": {
        "id": "VwLReWLOSxlg"
      },
      "source": [
        "# Splitting Data into Training, and Validation"
      ]
    },
    {
      "cell_type": "code",
      "metadata": {
        "id": "qTZW3KykS3gd"
      },
      "source": [
        "from sklearn.model_selection import train_test_split\n",
        "\n",
        "#Splitting the trining data into training and validation\n",
        "\n",
        "X_train, X_val, y_train, y_val = train_test_split(X_train, y_train, test_size=0.2)"
      ],
      "execution_count": 5,
      "outputs": []
    },
    {
      "cell_type": "markdown",
      "metadata": {
        "id": "HCAlRUzqRbfF"
      },
      "source": [
        "## Adding Noise to Images"
      ]
    },
    {
      "cell_type": "markdown",
      "metadata": {
        "id": "Ms3tEvKuSecU"
      },
      "source": [
        "Let's first define a noise factor which is a hyperparameter. The noise factor is multiplied with a random matrix that has a mean of 0.0 and standard deviation of 1.0. This matrix will draw samples from normal (Gaussian) distribution. The shape of the random normal array will be similar to the shape of the data you will be adding the noise."
      ]
    },
    {
      "cell_type": "code",
      "metadata": {
        "id": "jguo_yd2Rh0v"
      },
      "source": [
        "noise_factor = 0.2\n",
        "x_train_noisy = X_train + noise_factor * np.random.normal(loc=0.0, scale=1.0, size=X_train.shape)\n",
        "x_valid_noisy = X_val + noise_factor * np.random.normal(loc=0.0, scale=1.0, size=X_val.shape)\n",
        "x_test_noisy = X_test + noise_factor * np.random.normal(loc=0.0, scale=1.0, size=X_test.shape)\n",
        "x_train_noisy = np.clip(x_train_noisy, 0., 1.)\n",
        "x_valid_noisy = np.clip(x_valid_noisy, 0., 1.)\n",
        "x_test_noisy = np.clip(x_test_noisy, 0., 1.)"
      ],
      "execution_count": 6,
      "outputs": []
    },
    {
      "cell_type": "markdown",
      "metadata": {
        "id": "WEgEfhOATkuu"
      },
      "source": [
        "# Visualizing the noisy images"
      ]
    },
    {
      "cell_type": "code",
      "metadata": {
        "colab": {
          "base_uri": "https://localhost:8080/",
          "height": 193
        },
        "id": "Eo2JA3q5TnYN",
        "outputId": "5e70f285-4eea-400b-9e6d-7a186cc7eff6"
      },
      "source": [
        "plt.figure(figsize=[5,5])\n",
        "\n",
        "# Display the first image in training data\n",
        "plt.subplot(121)\n",
        "curr_img = np.reshape(x_train_noisy[1], (28,28))\n",
        "plt.imshow(curr_img, cmap='gray')\n",
        "\n",
        "# Display the first image in testing data\n",
        "plt.subplot(122)\n",
        "curr_img = np.reshape(x_test_noisy[1], (28,28))\n",
        "plt.imshow(curr_img, cmap='gray')"
      ],
      "execution_count": 7,
      "outputs": [
        {
          "output_type": "execute_result",
          "data": {
            "text/plain": [
              "<matplotlib.image.AxesImage at 0x7ffb8511be10>"
            ]
          },
          "metadata": {
            "tags": []
          },
          "execution_count": 7
        },
        {
          "output_type": "display_data",
          "data": {
            "image/png": "[encoded data removed]",
            "text/plain": [
              "<Figure size 360x360 with 2 Axes>"
            ]
          },
          "metadata": {
            "tags": [],
            "needs_background": "light"
          }
        }
      ]
    },
    {
      "cell_type": "markdown",
      "metadata": {
        "id": "MlOJ8ge0Tz7N"
      },
      "source": [
        "# Denoising Encoder-Decoder Network"
      ]
    },
    {
      "cell_type": "code",
      "metadata": {
        "id": "Axqt0fFPUHZg"
      },
      "source": [
        "epochs = 50\n",
        "\n",
        "inChannel = 1\n",
        "\n",
        "batch_size = 128\n",
        "\n",
        "x, y = 28, 28\n",
        "\n",
        "input_img = Input(shape = (x, y, inChannel))\n",
        "autoencoder = tf.keras.models.Sequential()\n",
        "#Layer 1\n",
        "autoencoder.add(tf.keras.layers.Conv2D(filters = 64, kernel_size = (3,3), padding = 'same', input_shape = (28, 28, 1)))\n",
        "autoencoder.add(tf.keras.layers.LeakyReLU(alpha = 0.01))\n",
        "#Layer 3\n",
        "autoencoder.add(tf.keras.layers.Conv2D(filters = 32, kernel_size = (3,3), padding = 'same'))\n",
        "autoencoder.add(tf.keras.layers.BatchNormalization())\n",
        "autoencoder.add(tf.keras.layers.LeakyReLU(alpha = 0.01))\n",
        "#Layer 4\n",
        "autoencoder.add(tf.keras.layers.Conv2D(filters = 16, kernel_size = (3,3), padding = 'same'))\n",
        "autoencoder.add(tf.keras.layers.BatchNormalization())\n",
        "autoencoder.add(tf.keras.layers.LeakyReLU(alpha = 0.01))\n",
        "#Layer 5\n",
        "autoencoder.add(tf.keras.layers.Conv2D(filters = 8, kernel_size = (3,3), padding = 'same'))\n",
        "autoencoder.add(tf.keras.layers.BatchNormalization())\n",
        "autoencoder.add(tf.keras.layers.LeakyReLU(alpha = 0.01))\n",
        "#Layer 6\n",
        "autoencoder.add(tf.keras.layers.Conv2D(filters = 8, kernel_size = (3,3), padding = 'same'))\n",
        "autoencoder.add(tf.keras.layers.BatchNormalization())\n",
        "autoencoder.add(tf.keras.layers.LeakyReLU(alpha = 0.01))\n",
        "#Layer 7\n",
        "autoencoder.add(tf.keras.layers.Conv2D(filters = 16, kernel_size = (3,3), padding = 'same'))\n",
        "autoencoder.add(tf.keras.layers.BatchNormalization())\n",
        "autoencoder.add(tf.keras.layers.LeakyReLU(alpha = 0.01))\n",
        "#Layer 8\n",
        "autoencoder.add(tf.keras.layers.Conv2DTranspose(filters = 32, kernel_size = (3,3), padding = 'same'))\n",
        "autoencoder.add(tf.keras.layers.BatchNormalization())\n",
        "autoencoder.add(tf.keras.layers.LeakyReLU(alpha = 0.01))\n",
        "#Layer 9\n",
        "autoencoder.add(tf.keras.layers.Conv2DTranspose(filters = 64, kernel_size = (3,3), padding = 'same'))\n",
        "autoencoder.add(tf.keras.layers.BatchNormalization())\n",
        "autoencoder.add(tf.keras.layers.LeakyReLU(alpha = 0.01))\n",
        "#Layer 11\n",
        "autoencoder.add(tf.keras.layers.Conv2DTranspose(filters = 1, kernel_size = (3,3), activation = 'sigmoid', padding = 'same'))"
      ],
      "execution_count": 31,
      "outputs": []
    },
    {
      "cell_type": "code",
      "metadata": {
        "colab": {
          "base_uri": "https://localhost:8080/"
        },
        "id": "7sKdSOhvoDIf",
        "outputId": "2c6b585f-ba8c-4a9d-8711-5a3d11be57a9"
      },
      "source": [
        "autoencoder.summary()"
      ],
      "execution_count": 32,
      "outputs": [
        {
          "output_type": "stream",
          "text": [
            "Model: \"sequential_3\"\n",
            "_________________________________________________________________\n",
            "Layer (type)                 Output Shape              Param #   \n",
            "=================================================================\n",
            "conv2d_13 (Conv2D)           (None, 28, 28, 64)        640       \n",
            "_________________________________________________________________\n",
            "leaky_re_lu_16 (LeakyReLU)   (None, 28, 28, 64)        0         \n",
            "_________________________________________________________________\n",
            "conv2d_14 (Conv2D)           (None, 28, 28, 32)        18464     \n",
            "_________________________________________________________________\n",
            "batch_normalization_14 (Batc (None, 28, 28, 32)        128       \n",
            "_________________________________________________________________\n",
            "leaky_re_lu_17 (LeakyReLU)   (None, 28, 28, 32)        0         \n",
            "_________________________________________________________________\n",
            "conv2d_15 (Conv2D)           (None, 28, 28, 16)        4624      \n",
            "_________________________________________________________________\n",
            "batch_normalization_15 (Batc (None, 28, 28, 16)        64        \n",
            "_________________________________________________________________\n",
            "leaky_re_lu_18 (LeakyReLU)   (None, 28, 28, 16)        0         \n",
            "_________________________________________________________________\n",
            "conv2d_16 (Conv2D)           (None, 28, 28, 8)         1160      \n",
            "_________________________________________________________________\n",
            "batch_normalization_16 (Batc (None, 28, 28, 8)         32        \n",
            "_________________________________________________________________\n",
            "leaky_re_lu_19 (LeakyReLU)   (None, 28, 28, 8)         0         \n",
            "_________________________________________________________________\n",
            "conv2d_17 (Conv2D)           (None, 28, 28, 8)         584       \n",
            "_________________________________________________________________\n",
            "batch_normalization_17 (Batc (None, 28, 28, 8)         32        \n",
            "_________________________________________________________________\n",
            "leaky_re_lu_20 (LeakyReLU)   (None, 28, 28, 8)         0         \n",
            "_________________________________________________________________\n",
            "conv2d_18 (Conv2D)           (None, 28, 28, 16)        1168      \n",
            "_________________________________________________________________\n",
            "batch_normalization_18 (Batc (None, 28, 28, 16)        64        \n",
            "_________________________________________________________________\n",
            "leaky_re_lu_21 (LeakyReLU)   (None, 28, 28, 16)        0         \n",
            "_________________________________________________________________\n",
            "conv2d_transpose_6 (Conv2DTr (None, 28, 28, 32)        4640      \n",
            "_________________________________________________________________\n",
            "batch_normalization_19 (Batc (None, 28, 28, 32)        128       \n",
            "_________________________________________________________________\n",
            "leaky_re_lu_22 (LeakyReLU)   (None, 28, 28, 32)        0         \n",
            "_________________________________________________________________\n",
            "conv2d_transpose_7 (Conv2DTr (None, 28, 28, 64)        18496     \n",
            "_________________________________________________________________\n",
            "batch_normalization_20 (Batc (None, 28, 28, 64)        256       \n",
            "_________________________________________________________________\n",
            "leaky_re_lu_23 (LeakyReLU)   (None, 28, 28, 64)        0         \n",
            "_________________________________________________________________\n",
            "conv2d_transpose_8 (Conv2DTr (None, 28, 28, 1)         577       \n",
            "=================================================================\n",
            "Total params: 51,057\n",
            "Trainable params: 50,705\n",
            "Non-trainable params: 352\n",
            "_________________________________________________________________\n"
          ],
          "name": "stdout"
        }
      ]
    },
    {
      "cell_type": "markdown",
      "metadata": {
        "id": "xs7iQPUcU_0r"
      },
      "source": [
        "# Build the model and compile"
      ]
    },
    {
      "cell_type": "code",
      "metadata": {
        "id": "OBakL1-ipzX3"
      },
      "source": [
        "autoencoder.compile(optimizer='adam', loss='binary_crossentropy')"
      ],
      "execution_count": 33,
      "outputs": []
    },
    {
      "cell_type": "markdown",
      "metadata": {
        "id": "KtSe_wyBVT_Y"
      },
      "source": [
        "# Training"
      ]
    },
    {
      "cell_type": "code",
      "metadata": {
        "colab": {
          "base_uri": "https://localhost:8080/"
        },
        "id": "-BaJUT2fr9RB",
        "outputId": "eed6d1d2-ebee-44ac-a4bb-6833ec06c907"
      },
      "source": [
        "history = autoencoder.fit(x_train_noisy, X_train, validation_data=(x_valid_noisy, X_val), batch_size=batch_size,epochs=epochs)"
      ],
      "execution_count": 35,
      "outputs": [
        {
          "output_type": "stream",
          "text": [
            "Epoch 1/50\n",
            "375/375 [==============================] - 11s 28ms/step - loss: 0.0841 - val_loss: 0.1112\n",
            "Epoch 2/50\n",
            "375/375 [==============================] - 10s 26ms/step - loss: 0.0688 - val_loss: 0.0689\n",
            "Epoch 3/50\n",
            "375/375 [==============================] - 10s 27ms/step - loss: 0.0684 - val_loss: 0.0686\n",
            "Epoch 4/50\n",
            "375/375 [==============================] - 10s 27ms/step - loss: 0.0681 - val_loss: 0.0681\n",
            "Epoch 5/50\n",
            "375/375 [==============================] - 10s 26ms/step - loss: 0.0680 - val_loss: 0.0682\n",
            "Epoch 6/50\n",
            "375/375 [==============================] - 10s 26ms/step - loss: 0.0679 - val_loss: 0.0679\n",
            "Epoch 7/50\n",
            "375/375 [==============================] - 10s 26ms/step - loss: 0.0678 - val_loss: 0.0679\n",
            "Epoch 8/50\n",
            "375/375 [==============================] - 10s 26ms/step - loss: 0.0678 - val_loss: 0.0678\n",
            "Epoch 9/50\n",
            "375/375 [==============================] - 10s 26ms/step - loss: 0.0677 - val_loss: 0.0678\n",
            "Epoch 10/50\n",
            "375/375 [==============================] - 10s 26ms/step - loss: 0.0677 - val_loss: 0.0690\n",
            "Epoch 11/50\n",
            "375/375 [==============================] - 10s 26ms/step - loss: 0.0676 - val_loss: 0.0679\n",
            "Epoch 12/50\n",
            "375/375 [==============================] - 10s 26ms/step - loss: 0.0676 - val_loss: 0.0678\n",
            "Epoch 13/50\n",
            "375/375 [==============================] - 10s 26ms/step - loss: 0.0676 - val_loss: 0.0677\n",
            "Epoch 14/50\n",
            "375/375 [==============================] - 10s 26ms/step - loss: 0.0675 - val_loss: 0.0676\n",
            "Epoch 15/50\n",
            "375/375 [==============================] - 10s 26ms/step - loss: 0.0675 - val_loss: 0.0681\n",
            "Epoch 16/50\n",
            "375/375 [==============================] - 10s 26ms/step - loss: 0.0675 - val_loss: 0.0676\n",
            "Epoch 17/50\n",
            "375/375 [==============================] - 10s 27ms/step - loss: 0.0675 - val_loss: 0.0678\n",
            "Epoch 18/50\n",
            "375/375 [==============================] - 10s 26ms/step - loss: 0.0674 - val_loss: 0.0676\n",
            "Epoch 19/50\n",
            "375/375 [==============================] - 10s 26ms/step - loss: 0.0674 - val_loss: 0.0676\n",
            "Epoch 20/50\n",
            "375/375 [==============================] - 10s 26ms/step - loss: 0.0674 - val_loss: 0.0677\n",
            "Epoch 21/50\n",
            "375/375 [==============================] - 10s 26ms/step - loss: 0.0674 - val_loss: 0.0675\n",
            "Epoch 22/50\n",
            "375/375 [==============================] - 10s 26ms/step - loss: 0.0673 - val_loss: 0.0676\n",
            "Epoch 23/50\n",
            "375/375 [==============================] - 10s 26ms/step - loss: 0.0673 - val_loss: 0.0676\n",
            "Epoch 24/50\n",
            "375/375 [==============================] - 10s 26ms/step - loss: 0.0673 - val_loss: 0.0675\n",
            "Epoch 25/50\n",
            "375/375 [==============================] - 10s 26ms/step - loss: 0.0673 - val_loss: 0.0678\n",
            "Epoch 26/50\n",
            "375/375 [==============================] - 10s 26ms/step - loss: 0.0673 - val_loss: 0.0678\n",
            "Epoch 27/50\n",
            "375/375 [==============================] - 10s 26ms/step - loss: 0.0673 - val_loss: 0.0674\n",
            "Epoch 28/50\n",
            "375/375 [==============================] - 10s 26ms/step - loss: 0.0673 - val_loss: 0.0675\n",
            "Epoch 29/50\n",
            "375/375 [==============================] - 10s 26ms/step - loss: 0.0673 - val_loss: 0.0674\n",
            "Epoch 30/50\n",
            "375/375 [==============================] - 10s 26ms/step - loss: 0.0673 - val_loss: 0.0675\n",
            "Epoch 31/50\n",
            "375/375 [==============================] - 10s 26ms/step - loss: 0.0672 - val_loss: 0.0674\n",
            "Epoch 32/50\n",
            "375/375 [==============================] - 10s 26ms/step - loss: 0.0672 - val_loss: 0.0675\n",
            "Epoch 33/50\n",
            "375/375 [==============================] - 10s 26ms/step - loss: 0.0672 - val_loss: 0.0675\n",
            "Epoch 34/50\n",
            "375/375 [==============================] - 10s 26ms/step - loss: 0.0672 - val_loss: 0.0674\n",
            "Epoch 35/50\n",
            "375/375 [==============================] - 10s 26ms/step - loss: 0.0672 - val_loss: 0.0674\n",
            "Epoch 36/50\n",
            "375/375 [==============================] - 10s 26ms/step - loss: 0.0672 - val_loss: 0.0678\n",
            "Epoch 37/50\n",
            "375/375 [==============================] - 10s 26ms/step - loss: 0.0672 - val_loss: 0.0674\n",
            "Epoch 38/50\n",
            "375/375 [==============================] - 10s 27ms/step - loss: 0.0672 - val_loss: 0.0676\n",
            "Epoch 39/50\n",
            "375/375 [==============================] - 10s 27ms/step - loss: 0.0672 - val_loss: 0.0674\n",
            "Epoch 40/50\n",
            "375/375 [==============================] - 10s 27ms/step - loss: 0.0671 - val_loss: 0.0674\n",
            "Epoch 41/50\n",
            "375/375 [==============================] - 10s 27ms/step - loss: 0.0671 - val_loss: 0.0675\n",
            "Epoch 42/50\n",
            "375/375 [==============================] - 10s 27ms/step - loss: 0.0671 - val_loss: 0.0675\n",
            "Epoch 43/50\n",
            "375/375 [==============================] - 10s 27ms/step - loss: 0.0671 - val_loss: 0.0678\n",
            "Epoch 44/50\n",
            "375/375 [==============================] - 10s 27ms/step - loss: 0.0671 - val_loss: 0.0673\n",
            "Epoch 45/50\n",
            "375/375 [==============================] - 10s 26ms/step - loss: 0.0671 - val_loss: 0.0673\n",
            "Epoch 46/50\n",
            "375/375 [==============================] - 10s 26ms/step - loss: 0.0671 - val_loss: 0.0674\n",
            "Epoch 47/50\n",
            "375/375 [==============================] - 10s 27ms/step - loss: 0.0671 - val_loss: 0.0676\n",
            "Epoch 48/50\n",
            "375/375 [==============================] - 10s 27ms/step - loss: 0.0671 - val_loss: 0.0675\n",
            "Epoch 49/50\n",
            "375/375 [==============================] - 10s 26ms/step - loss: 0.0671 - val_loss: 0.0674\n",
            "Epoch 50/50\n",
            "375/375 [==============================] - 10s 27ms/step - loss: 0.0671 - val_loss: 0.0674\n"
          ],
          "name": "stdout"
        }
      ]
    },
    {
      "cell_type": "markdown",
      "metadata": {
        "id": "0_xjPcdLWBNs"
      },
      "source": [
        "# Train versus Validation Loss Plot"
      ]
    },
    {
      "cell_type": "code",
      "metadata": {
        "colab": {
          "base_uri": "https://localhost:8080/",
          "height": 513
        },
        "id": "4ZCCJLwUrUg8",
        "outputId": "fc210bdf-3b6c-4cc7-cdd0-26735e0d75d7"
      },
      "source": [
        "plt.figure(figsize=(12,8))\n",
        "plt.plot(history.history['loss'])\n",
        "plt.plot(history.history['val_loss'])\n",
        "plt.legend(['Train', 'Test'])\n",
        "plt.title('Binary Crossentropy vs. Epoch (Noise  = 0.1)')\n",
        "plt.xlabel('Epoch')\n",
        "plt.ylabel('Binary Crossentropy')\n",
        "plt.xticks(ticks=history.epoch, labels=history.epoch)\n",
        "plt.show()"
      ],
      "execution_count": 36,
      "outputs": [
        {
          "output_type": "display_data",
          "data": {
            "image/png": "[encoded data removed]",
            "text/plain": [
              "<Figure size 864x576 with 1 Axes>"
            ]
          },
          "metadata": {
            "tags": [],
            "needs_background": "light"
          }
        }
      ]
    },
    {
      "cell_type": "markdown",
      "metadata": {
        "id": "DyYviBZoXRcx"
      },
      "source": [
        "# Predicting on Test dataset"
      ]
    },
    {
      "cell_type": "code",
      "metadata": {
        "id": "Igje0IY9rgoT"
      },
      "source": [
        "pred = autoencoder.predict(x_test_noisy)"
      ],
      "execution_count": 37,
      "outputs": []
    },
    {
      "cell_type": "code",
      "metadata": {
        "colab": {
          "base_uri": "https://localhost:8080/",
          "height": 465
        },
        "id": "c78suzOpXf38",
        "outputId": "1954d643-35c1-4172-d7f8-4b6a6fa6595a"
      },
      "source": [
        "plt.figure(figsize=(20, 4))\n",
        "print(\"Test Images\")\n",
        "for i in range(10,20,1):\n",
        "    plt.subplot(2, 10, i+1)\n",
        "    plt.imshow(X_test[i, ..., 0]*255, cmap='gray')\n",
        "    curr_lbl = y_test[i]\n",
        "    plt.title(\"(Label: \" + str(curr_lbl) + \")\")\n",
        "plt.show()    \n",
        "plt.figure(figsize=(20, 4))\n",
        "print(\"Test Images with Noise\")\n",
        "for i in range(10,20,1):\n",
        "    plt.subplot(2, 10, i+1)\n",
        "    plt.imshow(x_test_noisy[i, ..., 0]*255, cmap='gray')\n",
        "plt.show()    \n",
        "\n",
        "plt.figure(figsize=(20, 4))\n",
        "print(\"Reconstruction of Noisy Test Images\")\n",
        "for i in range(10,20,1):\n",
        "    plt.subplot(2, 10, i+1)\n",
        "    plt.imshow(pred[i, ..., 0]*255, cmap='gray')  \n",
        "plt.show()"
      ],
      "execution_count": 38,
      "outputs": [
        {
          "output_type": "stream",
          "text": [
            "Test Images\n"
          ],
          "name": "stdout"
        },
        {
          "output_type": "display_data",
          "data": {
            "image/png": "[encoded data removed]",
            "text/plain": [
              "<Figure size 1440x288 with 10 Axes>"
            ]
          },
          "metadata": {
            "tags": [],
            "needs_background": "light"
          }
        },
        {
          "output_type": "stream",
          "text": [
            "Test Images with Noise\n"
          ],
          "name": "stdout"
        },
        {
          "output_type": "display_data",
          "data": {
            "image/png": "[encoded data removed]",
            "text/plain": [
              "<Figure size 1440x288 with 10 Axes>"
            ]
          },
          "metadata": {
            "tags": [],
            "needs_background": "light"
          }
        },
        {
          "output_type": "stream",
          "text": [
            "Reconstruction of Noisy Test Images\n"
          ],
          "name": "stdout"
        },
        {
          "output_type": "display_data",
          "data": {
            "image/png": "[encoded data removed]",
            "text/plain": [
              "<Figure size 1440x288 with 10 Axes>"
            ]
          },
          "metadata": {
            "tags": [],
            "needs_background": "light"
          }
        }
      ]
    }
  ]
}